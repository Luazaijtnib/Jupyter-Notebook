{
 "cells": [
  {
   "cell_type": "code",
   "execution_count": 7,
   "id": "eaaa5820-7d3d-4f56-a2e8-f431956a3fa5",
   "metadata": {},
   "outputs": [
    {
     "name": "stdout",
     "output_type": "stream",
     "text": [
      "         math_score  english_score  history_score\n",
      "mean      74.390000       74.66000      76.440000\n",
      "median    74.000000       74.00000      75.500000\n",
      "std_dev   14.076146       14.10122      14.099872\n"
     ]
    }
   ],
   "source": [
    "#name: Aijaz Hussain , Roll no. : 211103058, Branch: Computer Science\n",
    "#Use NumPy to calculate mean, median, standard deviation (and other statistics) for each subject.\n",
    "# Import necessary libraries\n",
    "import pandas as pd\n",
    "import numpy as np\n",
    "\n",
    "# Load the data from CSV\n",
    "data = pd.read_csv('student_data.csv')\n",
    "\n",
    "# Display the first few rows of the dataframe to understand its structure\n",
    "data.head()\n",
    "\n",
    "# Extract score columns for summary statistics\n",
    "score_columns = ['math_score', 'english_score', 'history_score']\n",
    "\n",
    "# Create a dictionary to hold the summary statistics\n",
    "summary_stats = {}\n",
    "\n",
    "# Calculate mean, median, and standard deviation for each score column\n",
    "for column in score_columns:\n",
    "    summary_stats[column] = {\n",
    "        'mean': np.mean(data[column]),\n",
    "        'median': np.median(data[column]),\n",
    "        'std_dev': np.std(data[column], ddof=0)  # Population standard deviation\n",
    "    }\n",
    "\n",
    "# Convert the summary statistics dictionary to a DataFrame for better readability\n",
    "summary_stats_df = pd.DataFrame(summary_stats)\n",
    "\n",
    "# Display the summary statistics\n",
    "print(summary_stats_df)\n"
   ]
  },
  {
   "cell_type": "code",
   "execution_count": 5,
   "id": "5e9abaaf-9d07-41b5-90c3-39095b59d13d",
   "metadata": {},
   "outputs": [
    {
     "name": "stdout",
     "output_type": "stream",
     "text": [
      "Correlation matrix:\n",
      "[[ 1.          0.10334281 -0.03457215]\n",
      " [ 0.10334281  1.         -0.10164898]\n",
      " [-0.03457215 -0.10164898  1.        ]]\n",
      "\n",
      "Correlation matrix as DataFrame:\n",
      "               math_score  english_score  history_score\n",
      "math_score       1.000000       0.103343      -0.034572\n",
      "english_score    0.103343       1.000000      -0.101649\n",
      "history_score   -0.034572      -0.101649       1.000000\n"
     ]
    }
   ],
   "source": [
    "#Analyze correlations between subjects using NumPy’s correlation function.\n",
    "# Import necessary libraries\n",
    "import numpy as np\n",
    "import pandas as pd\n",
    "\n",
    "# Load the data\n",
    "data = pd.read_csv('student_data.csv')\n",
    "\n",
    "# Extract relevant columns\n",
    "scores = data[['math_score', 'english_score', 'history_score']]\n",
    "\n",
    "# Calculate the correlation matrix\n",
    "correlation_matrix = np.corrcoef(scores, rowvar=False)\n",
    "\n",
    "# Display the correlation matrix\n",
    "print(\"Correlation matrix:\")\n",
    "print(correlation_matrix)\n",
    "\n",
    "# Optional: Display the correlation matrix as a DataFrame for better readability\n",
    "correlation_df = pd.DataFrame(correlation_matrix, \n",
    "                              index=['math_score', 'english_score', 'history_score'], \n",
    "                              columns=['math_score', 'english_score', 'history_score'])\n",
    "print(\"\\nCorrelation matrix as DataFrame:\")\n",
    "print(correlation_df)\n"
   ]
  },
  {
   "cell_type": "code",
   "execution_count": null,
   "id": "5c0a31d9-5916-486c-b475-a587d1555a25",
   "metadata": {},
   "outputs": [],
   "source": []
  }
 ],
 "metadata": {
  "kernelspec": {
   "display_name": "Python 3 (ipykernel)",
   "language": "python",
   "name": "python3"
  },
  "language_info": {
   "codemirror_mode": {
    "name": "ipython",
    "version": 3
   },
   "file_extension": ".py",
   "mimetype": "text/x-python",
   "name": "python",
   "nbconvert_exporter": "python",
   "pygments_lexer": "ipython3",
   "version": "3.12.5"
  }
 },
 "nbformat": 4,
 "nbformat_minor": 5
}
